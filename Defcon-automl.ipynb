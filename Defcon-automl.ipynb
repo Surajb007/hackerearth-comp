{
 "cells": [
  {
   "cell_type": "code",
   "execution_count": 1,
   "metadata": {},
   "outputs": [
    {
     "name": "stderr",
     "output_type": "stream",
     "text": [
      "Using TensorFlow backend.\n"
     ]
    }
   ],
   "source": [
    "import numpy as np;\n",
    "import pandas as pd;\n",
    "import seaborn as sns;\n",
    "import matplotlib.pyplot as plt;\n",
    "from sklearn.preprocessing import power_transform\n",
    "from sklearn.preprocessing import MinMaxScaler\n",
    "from sklearn.linear_model import LogisticRegression\n",
    "from sklearn.model_selection import train_test_split\n",
    "from sklearn.ensemble import GradientBoostingClassifier\n",
    "from sklearn.preprocessing import LabelEncoder\n",
    "from sklearn.pipeline import Pipeline\n",
    "from keras.utils import np_utils\n",
    "from keras.wrappers.scikit_learn import KerasClassifier\n",
    "from sklearn.model_selection import KFold\n",
    "from sklearn.model_selection import cross_val_score"
   ]
  },
  {
   "cell_type": "code",
   "execution_count": 2,
   "metadata": {},
   "outputs": [],
   "source": [
    "train = pd.read_csv('train.csv')\n",
    "test = pd.read_csv('test.csv')"
   ]
  },
  {
   "cell_type": "code",
   "execution_count": 3,
   "metadata": {},
   "outputs": [],
   "source": [
    "train = train.drop(['ID'], axis = 1)"
   ]
  },
  {
   "cell_type": "code",
   "execution_count": 4,
   "metadata": {},
   "outputs": [
    {
     "data": {
      "text/html": [
       "<div>\n",
       "<style scoped>\n",
       "    .dataframe tbody tr th:only-of-type {\n",
       "        vertical-align: middle;\n",
       "    }\n",
       "\n",
       "    .dataframe tbody tr th {\n",
       "        vertical-align: top;\n",
       "    }\n",
       "\n",
       "    .dataframe thead th {\n",
       "        text-align: right;\n",
       "    }\n",
       "</style>\n",
       "<table border=\"1\" class=\"dataframe\">\n",
       "  <thead>\n",
       "    <tr style=\"text-align: right;\">\n",
       "      <th></th>\n",
       "      <th>Allied_Nations</th>\n",
       "      <th>Diplomatic_Meetings_Set</th>\n",
       "      <th>Percent_Of_Forces_Mobilized</th>\n",
       "      <th>Hostile_Nations</th>\n",
       "      <th>Active_Threats</th>\n",
       "      <th>Inactive_Threats</th>\n",
       "      <th>Citizen_Fear_Index</th>\n",
       "      <th>Closest_Threat_Distance(km)</th>\n",
       "      <th>Aircraft_Carriers_Responding</th>\n",
       "      <th>Troops_Mobilized(thousands)</th>\n",
       "      <th>DEFCON_Level</th>\n",
       "    </tr>\n",
       "  </thead>\n",
       "  <tbody>\n",
       "    <tr>\n",
       "      <td>0</td>\n",
       "      <td>16</td>\n",
       "      <td>1</td>\n",
       "      <td>0.67</td>\n",
       "      <td>3</td>\n",
       "      <td>6.0</td>\n",
       "      <td>25.0</td>\n",
       "      <td>0.787812</td>\n",
       "      <td>324.36</td>\n",
       "      <td>1</td>\n",
       "      <td>862400.0</td>\n",
       "      <td>3</td>\n",
       "    </tr>\n",
       "    <tr>\n",
       "      <td>1</td>\n",
       "      <td>8</td>\n",
       "      <td>1</td>\n",
       "      <td>0.11</td>\n",
       "      <td>2</td>\n",
       "      <td>38.0</td>\n",
       "      <td>48.0</td>\n",
       "      <td>0.419236</td>\n",
       "      <td>359.34</td>\n",
       "      <td>0</td>\n",
       "      <td>959200.0</td>\n",
       "      <td>4</td>\n",
       "    </tr>\n",
       "    <tr>\n",
       "      <td>2</td>\n",
       "      <td>9</td>\n",
       "      <td>1</td>\n",
       "      <td>0.49</td>\n",
       "      <td>3</td>\n",
       "      <td>32.0</td>\n",
       "      <td>69.0</td>\n",
       "      <td>0.582232</td>\n",
       "      <td>332.84</td>\n",
       "      <td>1</td>\n",
       "      <td>836000.0</td>\n",
       "      <td>3</td>\n",
       "    </tr>\n",
       "    <tr>\n",
       "      <td>3</td>\n",
       "      <td>7</td>\n",
       "      <td>0</td>\n",
       "      <td>0.30</td>\n",
       "      <td>2</td>\n",
       "      <td>31.0</td>\n",
       "      <td>52.0</td>\n",
       "      <td>0.589574</td>\n",
       "      <td>358.28</td>\n",
       "      <td>1</td>\n",
       "      <td>924000.0</td>\n",
       "      <td>3</td>\n",
       "    </tr>\n",
       "    <tr>\n",
       "      <td>4</td>\n",
       "      <td>8</td>\n",
       "      <td>1</td>\n",
       "      <td>0.12</td>\n",
       "      <td>5</td>\n",
       "      <td>13.0</td>\n",
       "      <td>42.0</td>\n",
       "      <td>0.552863</td>\n",
       "      <td>364.64</td>\n",
       "      <td>0</td>\n",
       "      <td>968000.0</td>\n",
       "      <td>2</td>\n",
       "    </tr>\n",
       "  </tbody>\n",
       "</table>\n",
       "</div>"
      ],
      "text/plain": [
       "   Allied_Nations  Diplomatic_Meetings_Set  Percent_Of_Forces_Mobilized  \\\n",
       "0              16                        1                         0.67   \n",
       "1               8                        1                         0.11   \n",
       "2               9                        1                         0.49   \n",
       "3               7                        0                         0.30   \n",
       "4               8                        1                         0.12   \n",
       "\n",
       "   Hostile_Nations  Active_Threats  Inactive_Threats  Citizen_Fear_Index  \\\n",
       "0                3             6.0              25.0            0.787812   \n",
       "1                2            38.0              48.0            0.419236   \n",
       "2                3            32.0              69.0            0.582232   \n",
       "3                2            31.0              52.0            0.589574   \n",
       "4                5            13.0              42.0            0.552863   \n",
       "\n",
       "   Closest_Threat_Distance(km)  Aircraft_Carriers_Responding  \\\n",
       "0                       324.36                             1   \n",
       "1                       359.34                             0   \n",
       "2                       332.84                             1   \n",
       "3                       358.28                             1   \n",
       "4                       364.64                             0   \n",
       "\n",
       "   Troops_Mobilized(thousands)  DEFCON_Level  \n",
       "0                     862400.0             3  \n",
       "1                     959200.0             4  \n",
       "2                     836000.0             3  \n",
       "3                     924000.0             3  \n",
       "4                     968000.0             2  "
      ]
     },
     "execution_count": 4,
     "metadata": {},
     "output_type": "execute_result"
    }
   ],
   "source": [
    "train.head()"
   ]
  },
  {
   "cell_type": "code",
   "execution_count": 5,
   "metadata": {},
   "outputs": [],
   "source": [
    "predictors = train.iloc[:,0:10]\n",
    "target = train.iloc[:,10]"
   ]
  },
  {
   "cell_type": "code",
   "execution_count": 6,
   "metadata": {},
   "outputs": [],
   "source": [
    "scaler = MinMaxScaler()\n",
    "scaler.fit(train.iloc[:,0:10])\n",
    "# scaler.fit(test_n)\n",
    "train_n = scaler.transform(train.iloc[:,0:10])\n",
    "# test_n = scaler.transform(test_n)"
   ]
  },
  {
   "cell_type": "code",
   "execution_count": 7,
   "metadata": {},
   "outputs": [],
   "source": [
    "target_df = target.to_frame()"
   ]
  },
  {
   "cell_type": "code",
   "execution_count": 8,
   "metadata": {},
   "outputs": [
    {
     "data": {
      "text/html": [
       "<div>\n",
       "<style scoped>\n",
       "    .dataframe tbody tr th:only-of-type {\n",
       "        vertical-align: middle;\n",
       "    }\n",
       "\n",
       "    .dataframe tbody tr th {\n",
       "        vertical-align: top;\n",
       "    }\n",
       "\n",
       "    .dataframe thead th {\n",
       "        text-align: right;\n",
       "    }\n",
       "</style>\n",
       "<table border=\"1\" class=\"dataframe\">\n",
       "  <thead>\n",
       "    <tr style=\"text-align: right;\">\n",
       "      <th></th>\n",
       "      <th>DEFCON_Level</th>\n",
       "    </tr>\n",
       "  </thead>\n",
       "  <tbody>\n",
       "    <tr>\n",
       "      <td>0</td>\n",
       "      <td>3</td>\n",
       "    </tr>\n",
       "    <tr>\n",
       "      <td>1</td>\n",
       "      <td>4</td>\n",
       "    </tr>\n",
       "    <tr>\n",
       "      <td>2</td>\n",
       "      <td>3</td>\n",
       "    </tr>\n",
       "    <tr>\n",
       "      <td>3</td>\n",
       "      <td>3</td>\n",
       "    </tr>\n",
       "    <tr>\n",
       "      <td>4</td>\n",
       "      <td>2</td>\n",
       "    </tr>\n",
       "  </tbody>\n",
       "</table>\n",
       "</div>"
      ],
      "text/plain": [
       "   DEFCON_Level\n",
       "0             3\n",
       "1             4\n",
       "2             3\n",
       "3             3\n",
       "4             2"
      ]
     },
     "execution_count": 8,
     "metadata": {},
     "output_type": "execute_result"
    }
   ],
   "source": [
    "target_df.head()"
   ]
  },
  {
   "cell_type": "code",
   "execution_count": 9,
   "metadata": {},
   "outputs": [],
   "source": [
    "train_n = pd.DataFrame(np.array(train_n), columns = predictors.columns)"
   ]
  },
  {
   "cell_type": "code",
   "execution_count": 10,
   "metadata": {},
   "outputs": [
    {
     "data": {
      "text/html": [
       "<div>\n",
       "<style scoped>\n",
       "    .dataframe tbody tr th:only-of-type {\n",
       "        vertical-align: middle;\n",
       "    }\n",
       "\n",
       "    .dataframe tbody tr th {\n",
       "        vertical-align: top;\n",
       "    }\n",
       "\n",
       "    .dataframe thead th {\n",
       "        text-align: right;\n",
       "    }\n",
       "</style>\n",
       "<table border=\"1\" class=\"dataframe\">\n",
       "  <thead>\n",
       "    <tr style=\"text-align: right;\">\n",
       "      <th></th>\n",
       "      <th>Allied_Nations</th>\n",
       "      <th>Diplomatic_Meetings_Set</th>\n",
       "      <th>Percent_Of_Forces_Mobilized</th>\n",
       "      <th>Hostile_Nations</th>\n",
       "      <th>Active_Threats</th>\n",
       "      <th>Inactive_Threats</th>\n",
       "      <th>Citizen_Fear_Index</th>\n",
       "      <th>Closest_Threat_Distance(km)</th>\n",
       "      <th>Aircraft_Carriers_Responding</th>\n",
       "      <th>Troops_Mobilized(thousands)</th>\n",
       "    </tr>\n",
       "  </thead>\n",
       "  <tbody>\n",
       "    <tr>\n",
       "      <td>0</td>\n",
       "      <td>1.000000</td>\n",
       "      <td>0.5</td>\n",
       "      <td>0.67</td>\n",
       "      <td>0.133333</td>\n",
       "      <td>0.070423</td>\n",
       "      <td>0.067138</td>\n",
       "      <td>0.787812</td>\n",
       "      <td>0.251969</td>\n",
       "      <td>0.5</td>\n",
       "      <td>0.215385</td>\n",
       "    </tr>\n",
       "    <tr>\n",
       "      <td>1</td>\n",
       "      <td>0.272727</td>\n",
       "      <td>0.5</td>\n",
       "      <td>0.11</td>\n",
       "      <td>0.066667</td>\n",
       "      <td>0.521127</td>\n",
       "      <td>0.148410</td>\n",
       "      <td>0.419236</td>\n",
       "      <td>0.511811</td>\n",
       "      <td>0.0</td>\n",
       "      <td>0.384615</td>\n",
       "    </tr>\n",
       "    <tr>\n",
       "      <td>2</td>\n",
       "      <td>0.363636</td>\n",
       "      <td>0.5</td>\n",
       "      <td>0.49</td>\n",
       "      <td>0.133333</td>\n",
       "      <td>0.436620</td>\n",
       "      <td>0.222615</td>\n",
       "      <td>0.582232</td>\n",
       "      <td>0.314961</td>\n",
       "      <td>0.5</td>\n",
       "      <td>0.169231</td>\n",
       "    </tr>\n",
       "    <tr>\n",
       "      <td>3</td>\n",
       "      <td>0.181818</td>\n",
       "      <td>0.0</td>\n",
       "      <td>0.30</td>\n",
       "      <td>0.066667</td>\n",
       "      <td>0.422535</td>\n",
       "      <td>0.162544</td>\n",
       "      <td>0.589574</td>\n",
       "      <td>0.503937</td>\n",
       "      <td>0.5</td>\n",
       "      <td>0.323077</td>\n",
       "    </tr>\n",
       "    <tr>\n",
       "      <td>4</td>\n",
       "      <td>0.272727</td>\n",
       "      <td>0.5</td>\n",
       "      <td>0.12</td>\n",
       "      <td>0.266667</td>\n",
       "      <td>0.169014</td>\n",
       "      <td>0.127208</td>\n",
       "      <td>0.552863</td>\n",
       "      <td>0.551181</td>\n",
       "      <td>0.0</td>\n",
       "      <td>0.400000</td>\n",
       "    </tr>\n",
       "  </tbody>\n",
       "</table>\n",
       "</div>"
      ],
      "text/plain": [
       "   Allied_Nations  Diplomatic_Meetings_Set  Percent_Of_Forces_Mobilized  \\\n",
       "0        1.000000                      0.5                         0.67   \n",
       "1        0.272727                      0.5                         0.11   \n",
       "2        0.363636                      0.5                         0.49   \n",
       "3        0.181818                      0.0                         0.30   \n",
       "4        0.272727                      0.5                         0.12   \n",
       "\n",
       "   Hostile_Nations  Active_Threats  Inactive_Threats  Citizen_Fear_Index  \\\n",
       "0         0.133333        0.070423          0.067138            0.787812   \n",
       "1         0.066667        0.521127          0.148410            0.419236   \n",
       "2         0.133333        0.436620          0.222615            0.582232   \n",
       "3         0.066667        0.422535          0.162544            0.589574   \n",
       "4         0.266667        0.169014          0.127208            0.552863   \n",
       "\n",
       "   Closest_Threat_Distance(km)  Aircraft_Carriers_Responding  \\\n",
       "0                     0.251969                           0.5   \n",
       "1                     0.511811                           0.0   \n",
       "2                     0.314961                           0.5   \n",
       "3                     0.503937                           0.5   \n",
       "4                     0.551181                           0.0   \n",
       "\n",
       "   Troops_Mobilized(thousands)  \n",
       "0                     0.215385  \n",
       "1                     0.384615  \n",
       "2                     0.169231  \n",
       "3                     0.323077  \n",
       "4                     0.400000  "
      ]
     },
     "execution_count": 10,
     "metadata": {},
     "output_type": "execute_result"
    }
   ],
   "source": [
    "train_n.head()"
   ]
  },
  {
   "cell_type": "code",
   "execution_count": 11,
   "metadata": {},
   "outputs": [],
   "source": [
    "train_normalized = train_n.join(target_df)"
   ]
  },
  {
   "cell_type": "code",
   "execution_count": 12,
   "metadata": {},
   "outputs": [
    {
     "data": {
      "text/html": [
       "<div>\n",
       "<style scoped>\n",
       "    .dataframe tbody tr th:only-of-type {\n",
       "        vertical-align: middle;\n",
       "    }\n",
       "\n",
       "    .dataframe tbody tr th {\n",
       "        vertical-align: top;\n",
       "    }\n",
       "\n",
       "    .dataframe thead th {\n",
       "        text-align: right;\n",
       "    }\n",
       "</style>\n",
       "<table border=\"1\" class=\"dataframe\">\n",
       "  <thead>\n",
       "    <tr style=\"text-align: right;\">\n",
       "      <th></th>\n",
       "      <th>Allied_Nations</th>\n",
       "      <th>Diplomatic_Meetings_Set</th>\n",
       "      <th>Percent_Of_Forces_Mobilized</th>\n",
       "      <th>Hostile_Nations</th>\n",
       "      <th>Active_Threats</th>\n",
       "      <th>Inactive_Threats</th>\n",
       "      <th>Citizen_Fear_Index</th>\n",
       "      <th>Closest_Threat_Distance(km)</th>\n",
       "      <th>Aircraft_Carriers_Responding</th>\n",
       "      <th>Troops_Mobilized(thousands)</th>\n",
       "      <th>DEFCON_Level</th>\n",
       "    </tr>\n",
       "  </thead>\n",
       "  <tbody>\n",
       "    <tr>\n",
       "      <td>0</td>\n",
       "      <td>1.000000</td>\n",
       "      <td>0.5</td>\n",
       "      <td>0.67</td>\n",
       "      <td>0.133333</td>\n",
       "      <td>0.070423</td>\n",
       "      <td>0.067138</td>\n",
       "      <td>0.787812</td>\n",
       "      <td>0.251969</td>\n",
       "      <td>0.5</td>\n",
       "      <td>0.215385</td>\n",
       "      <td>3</td>\n",
       "    </tr>\n",
       "    <tr>\n",
       "      <td>1</td>\n",
       "      <td>0.272727</td>\n",
       "      <td>0.5</td>\n",
       "      <td>0.11</td>\n",
       "      <td>0.066667</td>\n",
       "      <td>0.521127</td>\n",
       "      <td>0.148410</td>\n",
       "      <td>0.419236</td>\n",
       "      <td>0.511811</td>\n",
       "      <td>0.0</td>\n",
       "      <td>0.384615</td>\n",
       "      <td>4</td>\n",
       "    </tr>\n",
       "    <tr>\n",
       "      <td>2</td>\n",
       "      <td>0.363636</td>\n",
       "      <td>0.5</td>\n",
       "      <td>0.49</td>\n",
       "      <td>0.133333</td>\n",
       "      <td>0.436620</td>\n",
       "      <td>0.222615</td>\n",
       "      <td>0.582232</td>\n",
       "      <td>0.314961</td>\n",
       "      <td>0.5</td>\n",
       "      <td>0.169231</td>\n",
       "      <td>3</td>\n",
       "    </tr>\n",
       "    <tr>\n",
       "      <td>3</td>\n",
       "      <td>0.181818</td>\n",
       "      <td>0.0</td>\n",
       "      <td>0.30</td>\n",
       "      <td>0.066667</td>\n",
       "      <td>0.422535</td>\n",
       "      <td>0.162544</td>\n",
       "      <td>0.589574</td>\n",
       "      <td>0.503937</td>\n",
       "      <td>0.5</td>\n",
       "      <td>0.323077</td>\n",
       "      <td>3</td>\n",
       "    </tr>\n",
       "    <tr>\n",
       "      <td>4</td>\n",
       "      <td>0.272727</td>\n",
       "      <td>0.5</td>\n",
       "      <td>0.12</td>\n",
       "      <td>0.266667</td>\n",
       "      <td>0.169014</td>\n",
       "      <td>0.127208</td>\n",
       "      <td>0.552863</td>\n",
       "      <td>0.551181</td>\n",
       "      <td>0.0</td>\n",
       "      <td>0.400000</td>\n",
       "      <td>2</td>\n",
       "    </tr>\n",
       "  </tbody>\n",
       "</table>\n",
       "</div>"
      ],
      "text/plain": [
       "   Allied_Nations  Diplomatic_Meetings_Set  Percent_Of_Forces_Mobilized  \\\n",
       "0        1.000000                      0.5                         0.67   \n",
       "1        0.272727                      0.5                         0.11   \n",
       "2        0.363636                      0.5                         0.49   \n",
       "3        0.181818                      0.0                         0.30   \n",
       "4        0.272727                      0.5                         0.12   \n",
       "\n",
       "   Hostile_Nations  Active_Threats  Inactive_Threats  Citizen_Fear_Index  \\\n",
       "0         0.133333        0.070423          0.067138            0.787812   \n",
       "1         0.066667        0.521127          0.148410            0.419236   \n",
       "2         0.133333        0.436620          0.222615            0.582232   \n",
       "3         0.066667        0.422535          0.162544            0.589574   \n",
       "4         0.266667        0.169014          0.127208            0.552863   \n",
       "\n",
       "   Closest_Threat_Distance(km)  Aircraft_Carriers_Responding  \\\n",
       "0                     0.251969                           0.5   \n",
       "1                     0.511811                           0.0   \n",
       "2                     0.314961                           0.5   \n",
       "3                     0.503937                           0.5   \n",
       "4                     0.551181                           0.0   \n",
       "\n",
       "   Troops_Mobilized(thousands)  DEFCON_Level  \n",
       "0                     0.215385             3  \n",
       "1                     0.384615             4  \n",
       "2                     0.169231             3  \n",
       "3                     0.323077             3  \n",
       "4                     0.400000             2  "
      ]
     },
     "execution_count": 12,
     "metadata": {},
     "output_type": "execute_result"
    }
   ],
   "source": [
    "train_normalized.head()"
   ]
  },
  {
   "cell_type": "code",
   "execution_count": 13,
   "metadata": {},
   "outputs": [
    {
     "data": {
      "text/html": [
       "<div>\n",
       "<style scoped>\n",
       "    .dataframe tbody tr th:only-of-type {\n",
       "        vertical-align: middle;\n",
       "    }\n",
       "\n",
       "    .dataframe tbody tr th {\n",
       "        vertical-align: top;\n",
       "    }\n",
       "\n",
       "    .dataframe thead th {\n",
       "        text-align: right;\n",
       "    }\n",
       "</style>\n",
       "<table border=\"1\" class=\"dataframe\">\n",
       "  <thead>\n",
       "    <tr style=\"text-align: right;\">\n",
       "      <th></th>\n",
       "      <th>Allied_Nations</th>\n",
       "      <th>Diplomatic_Meetings_Set</th>\n",
       "      <th>Percent_Of_Forces_Mobilized</th>\n",
       "      <th>Hostile_Nations</th>\n",
       "      <th>Active_Threats</th>\n",
       "      <th>Inactive_Threats</th>\n",
       "      <th>Citizen_Fear_Index</th>\n",
       "      <th>Closest_Threat_Distance(km)</th>\n",
       "      <th>Aircraft_Carriers_Responding</th>\n",
       "      <th>Troops_Mobilized(thousands)</th>\n",
       "      <th>ID</th>\n",
       "    </tr>\n",
       "  </thead>\n",
       "  <tbody>\n",
       "    <tr>\n",
       "      <td>0</td>\n",
       "      <td>8</td>\n",
       "      <td>0</td>\n",
       "      <td>0.52</td>\n",
       "      <td>2</td>\n",
       "      <td>19.0</td>\n",
       "      <td>52.0</td>\n",
       "      <td>0.376652</td>\n",
       "      <td>319.06</td>\n",
       "      <td>1</td>\n",
       "      <td>976800.0</td>\n",
       "      <td>1</td>\n",
       "    </tr>\n",
       "    <tr>\n",
       "      <td>1</td>\n",
       "      <td>9</td>\n",
       "      <td>0</td>\n",
       "      <td>0.44</td>\n",
       "      <td>2</td>\n",
       "      <td>6.0</td>\n",
       "      <td>12.0</td>\n",
       "      <td>0.254772</td>\n",
       "      <td>351.92</td>\n",
       "      <td>1</td>\n",
       "      <td>1082400.0</td>\n",
       "      <td>10</td>\n",
       "    </tr>\n",
       "    <tr>\n",
       "      <td>2</td>\n",
       "      <td>8</td>\n",
       "      <td>0</td>\n",
       "      <td>0.44</td>\n",
       "      <td>3</td>\n",
       "      <td>7.0</td>\n",
       "      <td>18.0</td>\n",
       "      <td>0.472100</td>\n",
       "      <td>349.80</td>\n",
       "      <td>1</td>\n",
       "      <td>924000.0</td>\n",
       "      <td>14</td>\n",
       "    </tr>\n",
       "    <tr>\n",
       "      <td>3</td>\n",
       "      <td>10</td>\n",
       "      <td>0</td>\n",
       "      <td>0.39</td>\n",
       "      <td>2</td>\n",
       "      <td>3.0</td>\n",
       "      <td>13.0</td>\n",
       "      <td>0.478708</td>\n",
       "      <td>343.44</td>\n",
       "      <td>1</td>\n",
       "      <td>1003200.0</td>\n",
       "      <td>17</td>\n",
       "    </tr>\n",
       "    <tr>\n",
       "      <td>4</td>\n",
       "      <td>9</td>\n",
       "      <td>0</td>\n",
       "      <td>0.44</td>\n",
       "      <td>2</td>\n",
       "      <td>6.0</td>\n",
       "      <td>14.0</td>\n",
       "      <td>0.561674</td>\n",
       "      <td>346.62</td>\n",
       "      <td>1</td>\n",
       "      <td>924000.0</td>\n",
       "      <td>21</td>\n",
       "    </tr>\n",
       "  </tbody>\n",
       "</table>\n",
       "</div>"
      ],
      "text/plain": [
       "   Allied_Nations  Diplomatic_Meetings_Set  Percent_Of_Forces_Mobilized  \\\n",
       "0               8                        0                         0.52   \n",
       "1               9                        0                         0.44   \n",
       "2               8                        0                         0.44   \n",
       "3              10                        0                         0.39   \n",
       "4               9                        0                         0.44   \n",
       "\n",
       "   Hostile_Nations  Active_Threats  Inactive_Threats  Citizen_Fear_Index  \\\n",
       "0                2            19.0              52.0            0.376652   \n",
       "1                2             6.0              12.0            0.254772   \n",
       "2                3             7.0              18.0            0.472100   \n",
       "3                2             3.0              13.0            0.478708   \n",
       "4                2             6.0              14.0            0.561674   \n",
       "\n",
       "   Closest_Threat_Distance(km)  Aircraft_Carriers_Responding  \\\n",
       "0                       319.06                             1   \n",
       "1                       351.92                             1   \n",
       "2                       349.80                             1   \n",
       "3                       343.44                             1   \n",
       "4                       346.62                             1   \n",
       "\n",
       "   Troops_Mobilized(thousands)  ID  \n",
       "0                     976800.0   1  \n",
       "1                    1082400.0  10  \n",
       "2                     924000.0  14  \n",
       "3                    1003200.0  17  \n",
       "4                     924000.0  21  "
      ]
     },
     "execution_count": 13,
     "metadata": {},
     "output_type": "execute_result"
    }
   ],
   "source": [
    "test.head()"
   ]
  },
  {
   "cell_type": "code",
   "execution_count": 14,
   "metadata": {},
   "outputs": [],
   "source": [
    "scaler.fit(test.iloc[:,0:10])\n",
    "test_normalized = scaler.transform(test.iloc[:,0:10])"
   ]
  },
  {
   "cell_type": "code",
   "execution_count": 15,
   "metadata": {},
   "outputs": [],
   "source": [
    "test_normalized = pd.DataFrame(np.array(test_normalized), columns=predictors.columns)"
   ]
  },
  {
   "cell_type": "code",
   "execution_count": 16,
   "metadata": {},
   "outputs": [],
   "source": [
    "X_train, X_test, y_train, y_test = train_test_split(train_n, target, test_size=0.33, random_state=42)"
   ]
  },
  {
   "cell_type": "code",
   "execution_count": 17,
   "metadata": {},
   "outputs": [],
   "source": [
    "\n",
    "# encode class values as integers\n",
    "encoder = LabelEncoder()\n",
    "encoder.fit(y_train)\n",
    "encoded_Y = encoder.transform(y_train)\n",
    "# convert integers to dummy variables (i.e. one hot encoded)\n",
    "dummy_y = np_utils.to_categorical(encoded_Y)"
   ]
  },
  {
   "cell_type": "code",
   "execution_count": 18,
   "metadata": {},
   "outputs": [
    {
     "data": {
      "text/plain": [
       "0.48545454545454547"
      ]
     },
     "execution_count": 18,
     "metadata": {},
     "output_type": "execute_result"
    }
   ],
   "source": [
    "from sklearn.ensemble import AdaBoostClassifier\n",
    "model = AdaBoostClassifier(random_state=1)\n",
    "model.fit(X_train, y_train)\n",
    "model.score(X_test,y_test)"
   ]
  },
  {
   "cell_type": "code",
   "execution_count": 19,
   "metadata": {},
   "outputs": [
    {
     "data": {
      "text/plain": [
       "0.5636363636363636"
      ]
     },
     "execution_count": 19,
     "metadata": {},
     "output_type": "execute_result"
    }
   ],
   "source": [
    "from sklearn.ensemble import GradientBoostingClassifier\n",
    "model= GradientBoostingClassifier(learning_rate=0.01,random_state=1)\n",
    "model.fit(X_train, y_train)\n",
    "model.score(X_test,y_test)\n",
    "# 0.81621621621621621"
   ]
  },
  {
   "cell_type": "code",
   "execution_count": 20,
   "metadata": {},
   "outputs": [
    {
     "data": {
      "text/plain": [
       "0.6127272727272727"
      ]
     },
     "execution_count": 20,
     "metadata": {},
     "output_type": "execute_result"
    }
   ],
   "source": [
    "import xgboost as xgb\n",
    "model=xgb.XGBClassifier(random_state=1,learning_rate=0.01)\n",
    "model.fit(X_train, y_train)\n",
    "model.score(X_test,y_test)"
   ]
  },
  {
   "cell_type": "code",
   "execution_count": 21,
   "metadata": {},
   "outputs": [],
   "source": [
    "xg_predictions = model.predict(test_normalized)"
   ]
  },
  {
   "cell_type": "code",
   "execution_count": 22,
   "metadata": {},
   "outputs": [],
   "source": [
    "dicti = {}\n",
    "dicti['ID'] = test.ID\n",
    "dicti['DEFCON_Level'] = np.array(xg_predictions)"
   ]
  },
  {
   "cell_type": "code",
   "execution_count": 28,
   "metadata": {},
   "outputs": [],
   "source": [
    "xg = pd.DataFrame(dicti)"
   ]
  },
  {
   "cell_type": "code",
   "execution_count": 29,
   "metadata": {},
   "outputs": [],
   "source": [
    "xg.to_csv('xg.csv')"
   ]
  },
  {
   "cell_type": "code",
   "execution_count": 24,
   "metadata": {},
   "outputs": [],
   "source": [
    "# !pip install catboost"
   ]
  },
  {
   "cell_type": "code",
   "execution_count": 8,
   "metadata": {},
   "outputs": [
    {
     "name": "stdout",
     "output_type": "stream",
     "text": [
      "Wed Mar 11 11:01:24 2020       \n",
      "+-----------------------------------------------------------------------------+\n",
      "| NVIDIA-SMI 431.65       Driver Version: 431.65       CUDA Version: 10.1     |\n",
      "|-------------------------------+----------------------+----------------------+\n",
      "| GPU  Name            TCC/WDDM | Bus-Id        Disp.A | Volatile Uncorr. ECC |\n",
      "| Fan  Temp  Perf  Pwr:Usage/Cap|         Memory-Usage | GPU-Util  Compute M. |\n",
      "|===============================+======================+======================|\n",
      "|   0  GeForce GTX 166... WDDM  | 00000000:01:00.0  On |                  N/A |\n",
      "| N/A   45C    P8     1W /  N/A |    776MiB /  6144MiB |      1%      Default |\n",
      "+-------------------------------+----------------------+----------------------+\n",
      "                                                                               \n",
      "+-----------------------------------------------------------------------------+\n",
      "| Processes:                                                       GPU Memory |\n",
      "|  GPU       PID   Type   Process name                             Usage      |\n",
      "|=============================================================================|\n",
      "|    0      1424    C+G   Insufficient Permissions                   N/A      |\n",
      "|    0      1560    C+G   C:\\Windows\\explorer.exe                    N/A      |\n",
      "|    0      2072    C+G   ...0.0.0_x64__8wekyb3d8bbwe\\Calculator.exe N/A      |\n",
      "|    0      4704    C+G   ...6)\\Google\\Chrome\\Application\\chrome.exe N/A      |\n",
      "|    0      9220    C+G   ...5n1h2txyewy\\StartMenuExperienceHost.exe N/A      |\n",
      "|    0      9268    C+G   ...mmersiveControlPanel\\SystemSettings.exe N/A      |\n",
      "|    0      9656    C+G   ...dows.Cortana_cw5n1h2txyewy\\SearchUI.exe N/A      |\n",
      "|    0     10752    C+G   ...Local\\Microsoft\\Teams\\current\\Teams.exe N/A      |\n",
      "|    0     10908    C+G   ...6.102.0_x64__kzf8qxf38zg5c\\SkypeApp.exe N/A      |\n",
      "|    0     11064    C+G   ....135.0_x64__8wekyb3d8bbwe\\YourPhone.exe N/A      |\n",
      "|    0     12512    C+G   ...t_cw5n1h2txyewy\\ShellExperienceHost.exe N/A      |\n",
      "|    0     13140    C+G   ...crosoft Office\\root\\Office16\\UcMapi.exe N/A      |\n",
      "|    0     14068    C+G   ...oftEdge_8wekyb3d8bbwe\\MicrosoftEdge.exe N/A      |\n",
      "|    0     15348    C+G   ...Microsoft Office\\root\\Office16\\lync.exe N/A      |\n",
      "|    0     16668    C+G   ...AppData\\Local\\Box\\Box Edit\\Box Edit.exe N/A      |\n",
      "|    0     16784    C+G   ...Local\\Microsoft\\Teams\\current\\Teams.exe N/A      |\n",
      "|    0     16956    C+G   ...rosoft Office\\root\\Office16\\OUTLOOK.EXE N/A      |\n",
      "|    0     18080    C+G   ...hell.Experiences.TextInput.InputApp.exe N/A      |\n",
      "|    0     19248    C+G   ...1.0_x64__8wekyb3d8bbwe\\WinStore.App.exe N/A      |\n",
      "+-----------------------------------------------------------------------------+\n"
     ]
    }
   ],
   "source": [
    "!nvidia-smi"
   ]
  },
  {
   "cell_type": "code",
   "execution_count": 10,
   "metadata": {},
   "outputs": [
    {
     "name": "stdout",
     "output_type": "stream",
     "text": [
      "Requirement already satisfied: h2o in c:\\users\\suraj\\appdata\\local\\continuum\\anaconda3\\lib\\site-packages (3.28.0.3)\n",
      "Requirement already satisfied: colorama>=0.3.8 in c:\\users\\suraj\\appdata\\local\\continuum\\anaconda3\\lib\\site-packages (from h2o) (0.4.1)\n",
      "Requirement already satisfied: future in c:\\users\\suraj\\appdata\\local\\continuum\\anaconda3\\lib\\site-packages (from h2o) (0.17.1)\n",
      "Requirement already satisfied: requests in c:\\users\\suraj\\appdata\\local\\continuum\\anaconda3\\lib\\site-packages (from h2o) (2.22.0)\n",
      "Requirement already satisfied: tabulate in c:\\users\\suraj\\appdata\\local\\continuum\\anaconda3\\lib\\site-packages (from h2o) (0.8.6)\n",
      "Requirement already satisfied: urllib3!=1.25.0,!=1.25.1,<1.26,>=1.21.1 in c:\\users\\suraj\\appdata\\local\\continuum\\anaconda3\\lib\\site-packages (from requests->h2o) (1.24.2)\n",
      "Requirement already satisfied: certifi>=2017.4.17 in c:\\users\\suraj\\appdata\\local\\continuum\\anaconda3\\lib\\site-packages (from requests->h2o) (2019.9.11)\n",
      "Requirement already satisfied: chardet<3.1.0,>=3.0.2 in c:\\users\\suraj\\appdata\\local\\continuum\\anaconda3\\lib\\site-packages (from requests->h2o) (3.0.4)\n",
      "Requirement already satisfied: idna<2.9,>=2.5 in c:\\users\\suraj\\appdata\\local\\continuum\\anaconda3\\lib\\site-packages (from requests->h2o) (2.8)\n"
     ]
    }
   ],
   "source": [
    "# !pip install h2o"
   ]
  },
  {
   "cell_type": "code",
   "execution_count": 25,
   "metadata": {},
   "outputs": [
    {
     "name": "stdout",
     "output_type": "stream",
     "text": [
      "Checking whether there is an H2O instance running at http://localhost:54321 ..... not found.\n",
      "Attempting to start a local H2O server...\n",
      "; Java HotSpot(TM) 64-Bit Server VM (build 13.0.2+8, mixed mode, sharing)\n",
      "  Starting server from C:\\Users\\suraj\\AppData\\Local\\Continuum\\anaconda3\\lib\\site-packages\\h2o\\backend\\bin\\h2o.jar\n",
      "  Ice root: C:\\Users\\suraj\\AppData\\Local\\Temp\\tmp64jed0u6\n",
      "  JVM stdout: C:\\Users\\suraj\\AppData\\Local\\Temp\\tmp64jed0u6\\h2o_Suraj_started_from_python.out\n",
      "  JVM stderr: C:\\Users\\suraj\\AppData\\Local\\Temp\\tmp64jed0u6\\h2o_Suraj_started_from_python.err\n",
      "  Server is running at http://127.0.0.1:54321\n",
      "Connecting to H2O server at http://127.0.0.1:54321 ... successful.\n"
     ]
    },
    {
     "data": {
      "text/html": [
       "<div style=\"overflow:auto\"><table style=\"width:50%\"><tr><td>H2O cluster uptime:</td>\n",
       "<td>05 secs</td></tr>\n",
       "<tr><td>H2O cluster timezone:</td>\n",
       "<td>America/New_York</td></tr>\n",
       "<tr><td>H2O data parsing timezone:</td>\n",
       "<td>UTC</td></tr>\n",
       "<tr><td>H2O cluster version:</td>\n",
       "<td>3.28.0.3</td></tr>\n",
       "<tr><td>H2O cluster version age:</td>\n",
       "<td>2 months and 18 days </td></tr>\n",
       "<tr><td>H2O cluster name:</td>\n",
       "<td>H2O_from_python_Suraj_oxa4m2</td></tr>\n",
       "<tr><td>H2O cluster total nodes:</td>\n",
       "<td>1</td></tr>\n",
       "<tr><td>H2O cluster free memory:</td>\n",
       "<td>3.980 Gb</td></tr>\n",
       "<tr><td>H2O cluster total cores:</td>\n",
       "<td>12</td></tr>\n",
       "<tr><td>H2O cluster allowed cores:</td>\n",
       "<td>12</td></tr>\n",
       "<tr><td>H2O cluster status:</td>\n",
       "<td>accepting new members, healthy</td></tr>\n",
       "<tr><td>H2O connection url:</td>\n",
       "<td>http://127.0.0.1:54321</td></tr>\n",
       "<tr><td>H2O connection proxy:</td>\n",
       "<td>{'http': None, 'https': None, 'no': '192.168.99.100'}</td></tr>\n",
       "<tr><td>H2O internal security:</td>\n",
       "<td>False</td></tr>\n",
       "<tr><td>H2O API Extensions:</td>\n",
       "<td>Amazon S3, Algos, AutoML, Core V3, TargetEncoder, Core V4</td></tr>\n",
       "<tr><td>Python version:</td>\n",
       "<td>3.7.4 final</td></tr></table></div>"
      ],
      "text/plain": [
       "--------------------------  ---------------------------------------------------------\n",
       "H2O cluster uptime:         05 secs\n",
       "H2O cluster timezone:       America/New_York\n",
       "H2O data parsing timezone:  UTC\n",
       "H2O cluster version:        3.28.0.3\n",
       "H2O cluster version age:    2 months and 18 days\n",
       "H2O cluster name:           H2O_from_python_Suraj_oxa4m2\n",
       "H2O cluster total nodes:    1\n",
       "H2O cluster free memory:    3.980 Gb\n",
       "H2O cluster total cores:    12\n",
       "H2O cluster allowed cores:  12\n",
       "H2O cluster status:         accepting new members, healthy\n",
       "H2O connection url:         http://127.0.0.1:54321\n",
       "H2O connection proxy:       {'http': None, 'https': None, 'no': '192.168.99.100'}\n",
       "H2O internal security:      False\n",
       "H2O API Extensions:         Amazon S3, Algos, AutoML, Core V3, TargetEncoder, Core V4\n",
       "Python version:             3.7.4 final\n",
       "--------------------------  ---------------------------------------------------------"
      ]
     },
     "metadata": {},
     "output_type": "display_data"
    }
   ],
   "source": [
    "import h2o\n",
    "h2o.init()"
   ]
  },
  {
   "cell_type": "code",
   "execution_count": 26,
   "metadata": {},
   "outputs": [],
   "source": [
    "from h2o.automl import H2OAutoML"
   ]
  },
  {
   "cell_type": "code",
   "execution_count": 104,
   "metadata": {},
   "outputs": [
    {
     "name": "stdout",
     "output_type": "stream",
     "text": [
      "Parse progress: |█████████████████████████████████████████████████████████| 100%\n"
     ]
    }
   ],
   "source": [
    "train_h2o = h2o.import_file('train.csv')"
   ]
  },
  {
   "cell_type": "code",
   "execution_count": 106,
   "metadata": {},
   "outputs": [],
   "source": [
    "train_h2o['DEFCON_Level'] = train_h2o['DEFCON_Level'].asfactor()"
   ]
  },
  {
   "cell_type": "code",
   "execution_count": 120,
   "metadata": {},
   "outputs": [
    {
     "name": "stdout",
     "output_type": "stream",
     "text": [
      "Parse progress: |█████████████████████████████████████████████████████████| 100%\n"
     ]
    }
   ],
   "source": [
    "test_h2o = h2o.import_file('test.csv')"
   ]
  },
  {
   "cell_type": "code",
   "execution_count": 122,
   "metadata": {},
   "outputs": [],
   "source": [
    "test_data_frame = test_h2o.drop(['ID'])"
   ]
  },
  {
   "cell_type": "code",
   "execution_count": 123,
   "metadata": {},
   "outputs": [
    {
     "data": {
      "text/html": [
       "<table>\n",
       "<thead>\n",
       "<tr><th style=\"text-align: right;\">  Allied_Nations</th><th style=\"text-align: right;\">  Diplomatic_Meetings_Set</th><th style=\"text-align: right;\">  Percent_Of_Forces_Mobilized</th><th style=\"text-align: right;\">  Hostile_Nations</th><th style=\"text-align: right;\">  Active_Threats</th><th style=\"text-align: right;\">  Inactive_Threats</th><th style=\"text-align: right;\">  Citizen_Fear_Index</th><th style=\"text-align: right;\">  Closest_Threat_Distance(km)</th><th style=\"text-align: right;\">  Aircraft_Carriers_Responding</th><th style=\"text-align: right;\">  Troops_Mobilized(thousands)</th></tr>\n",
       "</thead>\n",
       "<tbody>\n",
       "<tr><td style=\"text-align: right;\">               8</td><td style=\"text-align: right;\">                        0</td><td style=\"text-align: right;\">                         0.52</td><td style=\"text-align: right;\">                2</td><td style=\"text-align: right;\">              19</td><td style=\"text-align: right;\">                52</td><td style=\"text-align: right;\">            0.376652</td><td style=\"text-align: right;\">                       319.06</td><td style=\"text-align: right;\">                             1</td><td style=\"text-align: right;\">              976800         </td></tr>\n",
       "<tr><td style=\"text-align: right;\">               9</td><td style=\"text-align: right;\">                        0</td><td style=\"text-align: right;\">                         0.44</td><td style=\"text-align: right;\">                2</td><td style=\"text-align: right;\">               6</td><td style=\"text-align: right;\">                12</td><td style=\"text-align: right;\">            0.254772</td><td style=\"text-align: right;\">                       351.92</td><td style=\"text-align: right;\">                             1</td><td style=\"text-align: right;\">                   1.0824e+06</td></tr>\n",
       "<tr><td style=\"text-align: right;\">               8</td><td style=\"text-align: right;\">                        0</td><td style=\"text-align: right;\">                         0.44</td><td style=\"text-align: right;\">                3</td><td style=\"text-align: right;\">               7</td><td style=\"text-align: right;\">                18</td><td style=\"text-align: right;\">            0.4721  </td><td style=\"text-align: right;\">                       349.8 </td><td style=\"text-align: right;\">                             1</td><td style=\"text-align: right;\">              924000         </td></tr>\n",
       "<tr><td style=\"text-align: right;\">              10</td><td style=\"text-align: right;\">                        0</td><td style=\"text-align: right;\">                         0.39</td><td style=\"text-align: right;\">                2</td><td style=\"text-align: right;\">               3</td><td style=\"text-align: right;\">                13</td><td style=\"text-align: right;\">            0.478708</td><td style=\"text-align: right;\">                       343.44</td><td style=\"text-align: right;\">                             1</td><td style=\"text-align: right;\">                   1.0032e+06</td></tr>\n",
       "<tr><td style=\"text-align: right;\">               9</td><td style=\"text-align: right;\">                        0</td><td style=\"text-align: right;\">                         0.44</td><td style=\"text-align: right;\">                2</td><td style=\"text-align: right;\">               6</td><td style=\"text-align: right;\">                14</td><td style=\"text-align: right;\">            0.561674</td><td style=\"text-align: right;\">                       346.62</td><td style=\"text-align: right;\">                             1</td><td style=\"text-align: right;\">              924000         </td></tr>\n",
       "<tr><td style=\"text-align: right;\">               8</td><td style=\"text-align: right;\">                        1</td><td style=\"text-align: right;\">                         0.36</td><td style=\"text-align: right;\">                2</td><td style=\"text-align: right;\">              24</td><td style=\"text-align: right;\">               122</td><td style=\"text-align: right;\">            0.494126</td><td style=\"text-align: right;\">                       333.9 </td><td style=\"text-align: right;\">                             1</td><td style=\"text-align: right;\">              862400         </td></tr>\n",
       "<tr><td style=\"text-align: right;\">               7</td><td style=\"text-align: right;\">                        0</td><td style=\"text-align: right;\">                         0.02</td><td style=\"text-align: right;\">                1</td><td style=\"text-align: right;\">              28</td><td style=\"text-align: right;\">                38</td><td style=\"text-align: right;\">            0.375184</td><td style=\"text-align: right;\">                       355.1 </td><td style=\"text-align: right;\">                             1</td><td style=\"text-align: right;\">              915200         </td></tr>\n",
       "<tr><td style=\"text-align: right;\">               8</td><td style=\"text-align: right;\">                        1</td><td style=\"text-align: right;\">                         0.05</td><td style=\"text-align: right;\">                2</td><td style=\"text-align: right;\">              13</td><td style=\"text-align: right;\">                32</td><td style=\"text-align: right;\">            0.37812 </td><td style=\"text-align: right;\">                       351.92</td><td style=\"text-align: right;\">                             1</td><td style=\"text-align: right;\">              906400         </td></tr>\n",
       "<tr><td style=\"text-align: right;\">               8</td><td style=\"text-align: right;\">                        0</td><td style=\"text-align: right;\">                         0.35</td><td style=\"text-align: right;\">                2</td><td style=\"text-align: right;\">               7</td><td style=\"text-align: right;\">                20</td><td style=\"text-align: right;\">            0.395742</td><td style=\"text-align: right;\">                       359.34</td><td style=\"text-align: right;\">                             1</td><td style=\"text-align: right;\">              827200         </td></tr>\n",
       "<tr><td style=\"text-align: right;\">               9</td><td style=\"text-align: right;\">                        0</td><td style=\"text-align: right;\">                         0.31</td><td style=\"text-align: right;\">                2</td><td style=\"text-align: right;\">              19</td><td style=\"text-align: right;\">               133</td><td style=\"text-align: right;\">            0.611601</td><td style=\"text-align: right;\">                       356.16</td><td style=\"text-align: right;\">                             1</td><td style=\"text-align: right;\">              827200         </td></tr>\n",
       "</tbody>\n",
       "</table>"
      ]
     },
     "metadata": {},
     "output_type": "display_data"
    },
    {
     "data": {
      "text/plain": []
     },
     "execution_count": 123,
     "metadata": {},
     "output_type": "execute_result"
    }
   ],
   "source": [
    "test_data_frame.head()"
   ]
  },
  {
   "cell_type": "code",
   "execution_count": 107,
   "metadata": {},
   "outputs": [
    {
     "name": "stdout",
     "output_type": "stream",
     "text": [
      "Rows:10000\n",
      "Cols:12\n",
      "\n",
      "\n"
     ]
    },
    {
     "data": {
      "text/html": [
       "<table>\n",
       "<thead>\n",
       "<tr><th>       </th><th>Allied_Nations    </th><th>Diplomatic_Meetings_Set  </th><th>Percent_Of_Forces_Mobilized  </th><th>Hostile_Nations  </th><th>Active_Threats   </th><th>Inactive_Threats  </th><th>Citizen_Fear_Index  </th><th>Closest_Threat_Distance(km)  </th><th>Aircraft_Carriers_Responding  </th><th>Troops_Mobilized(thousands)  </th><th>DEFCON_Level  </th><th>ID                </th></tr>\n",
       "</thead>\n",
       "<tbody>\n",
       "<tr><td>type   </td><td>int               </td><td>int                      </td><td>real                         </td><td>int              </td><td>real             </td><td>real              </td><td>real                </td><td>real                         </td><td>int                           </td><td>real                         </td><td>enum          </td><td>int               </td></tr>\n",
       "<tr><td>mins   </td><td>5.0               </td><td>0.0                      </td><td>0.0                          </td><td>1.0              </td><td>1.0              </td><td>6.0               </td><td>0.0                 </td><td>290.44                       </td><td>0.0                           </td><td>739200.0                     </td><td>              </td><td>2.0               </td></tr>\n",
       "<tr><td>mean   </td><td>8.3178            </td><td>0.5241                   </td><td>0.270548                     </td><td>2.5023           </td><td>15.7543          </td><td>46.534600000000005</td><td>0.48663898678413753 </td><td>350.885758                   </td><td>0.8913                        </td><td>917487.4133333332            </td><td>              </td><td>6266.5542         </td></tr>\n",
       "<tr><td>maxs   </td><td>16.0              </td><td>2.0                      </td><td>1.0                          </td><td>16.0             </td><td>72.0             </td><td>289.0             </td><td>1.0                 </td><td>425.06                       </td><td>2.0                           </td><td>1311200.0                    </td><td>              </td><td>12500.0           </td></tr>\n",
       "<tr><td>sigma  </td><td>1.7488021588787823</td><td>0.500244154809871        </td><td>0.19643364862933077          </td><td>1.311780006967124</td><td>10.38890631623198</td><td>34.012648954012484</td><td>0.13455181916942704 </td><td>16.28574404782769            </td><td>0.32908226861067946           </td><td>92717.64016200531            </td><td>              </td><td>3610.1702878414308</td></tr>\n",
       "<tr><td>zeros  </td><td>0                 </td><td>4763                     </td><td>898                          </td><td>0                </td><td>0                </td><td>0                 </td><td>7                   </td><td>0                            </td><td>1144                          </td><td>0                            </td><td>              </td><td>0                 </td></tr>\n",
       "<tr><td>missing</td><td>0                 </td><td>0                        </td><td>0                            </td><td>0                </td><td>0                </td><td>0                 </td><td>0                   </td><td>0                            </td><td>0                             </td><td>0                            </td><td>0             </td><td>0                 </td></tr>\n",
       "<tr><td>0      </td><td>16.0              </td><td>1.0                      </td><td>0.67                         </td><td>3.0              </td><td>6.0              </td><td>25.0              </td><td>0.787812041115999   </td><td>324.36                       </td><td>1.0                           </td><td>862400.0                     </td><td>3             </td><td>7570.0            </td></tr>\n",
       "<tr><td>1      </td><td>8.0               </td><td>1.0                      </td><td>0.11                         </td><td>2.0              </td><td>38.0             </td><td>48.0              </td><td>0.419236417033762   </td><td>359.34                       </td><td>0.0                           </td><td>959200.0                     </td><td>4             </td><td>12128.0           </td></tr>\n",
       "<tr><td>2      </td><td>9.0               </td><td>1.0                      </td><td>0.49                         </td><td>3.0              </td><td>32.0             </td><td>69.0              </td><td>0.582232011747428   </td><td>332.84                       </td><td>1.0                           </td><td>836000.0                     </td><td>3             </td><td>2181.0            </td></tr>\n",
       "<tr><td>3      </td><td>7.0               </td><td>0.0                      </td><td>0.3                          </td><td>2.0              </td><td>31.0             </td><td>52.0              </td><td>0.589574155653448   </td><td>358.28                       </td><td>1.0                           </td><td>924000.0                     </td><td>3             </td><td>5946.0            </td></tr>\n",
       "<tr><td>4      </td><td>8.0               </td><td>1.0                      </td><td>0.12                         </td><td>5.0              </td><td>13.0             </td><td>42.0              </td><td>0.552863436123348   </td><td>364.64                       </td><td>0.0                           </td><td>968000.0                     </td><td>2             </td><td>9054.0            </td></tr>\n",
       "<tr><td>5      </td><td>6.0               </td><td>1.0                      </td><td>0.1                          </td><td>2.0              </td><td>4.0              </td><td>11.0              </td><td>0.508810572687221   </td><td>387.96                       </td><td>1.0                           </td><td>880000.0                     </td><td>2             </td><td>10947.0           </td></tr>\n",
       "<tr><td>6      </td><td>7.0               </td><td>1.0                      </td><td>0.08                         </td><td>2.0              </td><td>42.0             </td><td>52.0              </td><td>0.357562408223192   </td><td>349.8                        </td><td>1.0                           </td><td>1038400.0                    </td><td>4             </td><td>4717.0            </td></tr>\n",
       "<tr><td>7      </td><td>8.0               </td><td>1.0                      </td><td>0.1                          </td><td>2.0              </td><td>34.0             </td><td>45.0              </td><td>0.378120411160062   </td><td>348.74                       </td><td>1.0                           </td><td>1038400.0                    </td><td>4             </td><td>8008.0            </td></tr>\n",
       "<tr><td>8      </td><td>10.0              </td><td>0.0                      </td><td>0.65                         </td><td>7.0              </td><td>18.0             </td><td>39.0              </td><td>0.656387665198241   </td><td>333.9                        </td><td>1.0                           </td><td>959200.0                     </td><td>2             </td><td>8179.0            </td></tr>\n",
       "<tr><td>9      </td><td>8.0               </td><td>0.0                      </td><td>0.29                         </td><td>3.0              </td><td>18.0             </td><td>58.0              </td><td>0.618942731277535   </td><td>349.8                        </td><td>1.0                           </td><td>800800.0                     </td><td>2             </td><td>6324.0            </td></tr>\n",
       "</tbody>\n",
       "</table>"
      ]
     },
     "metadata": {},
     "output_type": "display_data"
    }
   ],
   "source": [
    "train_h2o.describe()"
   ]
  },
  {
   "cell_type": "code",
   "execution_count": 108,
   "metadata": {},
   "outputs": [
    {
     "data": {
      "text/html": [
       "<table>\n",
       "<thead>\n",
       "<tr><th style=\"text-align: right;\">  Allied_Nations</th><th style=\"text-align: right;\">  Diplomatic_Meetings_Set</th><th style=\"text-align: right;\">  Percent_Of_Forces_Mobilized</th><th style=\"text-align: right;\">  Hostile_Nations</th><th style=\"text-align: right;\">  Active_Threats</th><th style=\"text-align: right;\">  Inactive_Threats</th><th style=\"text-align: right;\">  Citizen_Fear_Index</th><th style=\"text-align: right;\">  Closest_Threat_Distance(km)</th><th style=\"text-align: right;\">  Aircraft_Carriers_Responding</th><th style=\"text-align: right;\">  Troops_Mobilized(thousands)</th><th style=\"text-align: right;\">  DEFCON_Level</th><th style=\"text-align: right;\">   ID</th></tr>\n",
       "</thead>\n",
       "<tbody>\n",
       "<tr><td style=\"text-align: right;\">              16</td><td style=\"text-align: right;\">                        1</td><td style=\"text-align: right;\">                         0.67</td><td style=\"text-align: right;\">                3</td><td style=\"text-align: right;\">               6</td><td style=\"text-align: right;\">                25</td><td style=\"text-align: right;\">            0.787812</td><td style=\"text-align: right;\">                       324.36</td><td style=\"text-align: right;\">                             1</td><td style=\"text-align: right;\">              862400         </td><td style=\"text-align: right;\">             3</td><td style=\"text-align: right;\"> 7570</td></tr>\n",
       "<tr><td style=\"text-align: right;\">               8</td><td style=\"text-align: right;\">                        1</td><td style=\"text-align: right;\">                         0.11</td><td style=\"text-align: right;\">                2</td><td style=\"text-align: right;\">              38</td><td style=\"text-align: right;\">                48</td><td style=\"text-align: right;\">            0.419236</td><td style=\"text-align: right;\">                       359.34</td><td style=\"text-align: right;\">                             0</td><td style=\"text-align: right;\">              959200         </td><td style=\"text-align: right;\">             4</td><td style=\"text-align: right;\">12128</td></tr>\n",
       "<tr><td style=\"text-align: right;\">               9</td><td style=\"text-align: right;\">                        1</td><td style=\"text-align: right;\">                         0.49</td><td style=\"text-align: right;\">                3</td><td style=\"text-align: right;\">              32</td><td style=\"text-align: right;\">                69</td><td style=\"text-align: right;\">            0.582232</td><td style=\"text-align: right;\">                       332.84</td><td style=\"text-align: right;\">                             1</td><td style=\"text-align: right;\">              836000         </td><td style=\"text-align: right;\">             3</td><td style=\"text-align: right;\"> 2181</td></tr>\n",
       "<tr><td style=\"text-align: right;\">               7</td><td style=\"text-align: right;\">                        0</td><td style=\"text-align: right;\">                         0.3 </td><td style=\"text-align: right;\">                2</td><td style=\"text-align: right;\">              31</td><td style=\"text-align: right;\">                52</td><td style=\"text-align: right;\">            0.589574</td><td style=\"text-align: right;\">                       358.28</td><td style=\"text-align: right;\">                             1</td><td style=\"text-align: right;\">              924000         </td><td style=\"text-align: right;\">             3</td><td style=\"text-align: right;\"> 5946</td></tr>\n",
       "<tr><td style=\"text-align: right;\">               8</td><td style=\"text-align: right;\">                        1</td><td style=\"text-align: right;\">                         0.12</td><td style=\"text-align: right;\">                5</td><td style=\"text-align: right;\">              13</td><td style=\"text-align: right;\">                42</td><td style=\"text-align: right;\">            0.552863</td><td style=\"text-align: right;\">                       364.64</td><td style=\"text-align: right;\">                             0</td><td style=\"text-align: right;\">              968000         </td><td style=\"text-align: right;\">             2</td><td style=\"text-align: right;\"> 9054</td></tr>\n",
       "<tr><td style=\"text-align: right;\">               6</td><td style=\"text-align: right;\">                        1</td><td style=\"text-align: right;\">                         0.1 </td><td style=\"text-align: right;\">                2</td><td style=\"text-align: right;\">               4</td><td style=\"text-align: right;\">                11</td><td style=\"text-align: right;\">            0.508811</td><td style=\"text-align: right;\">                       387.96</td><td style=\"text-align: right;\">                             1</td><td style=\"text-align: right;\">              880000         </td><td style=\"text-align: right;\">             2</td><td style=\"text-align: right;\">10947</td></tr>\n",
       "<tr><td style=\"text-align: right;\">               7</td><td style=\"text-align: right;\">                        1</td><td style=\"text-align: right;\">                         0.08</td><td style=\"text-align: right;\">                2</td><td style=\"text-align: right;\">              42</td><td style=\"text-align: right;\">                52</td><td style=\"text-align: right;\">            0.357562</td><td style=\"text-align: right;\">                       349.8 </td><td style=\"text-align: right;\">                             1</td><td style=\"text-align: right;\">                   1.0384e+06</td><td style=\"text-align: right;\">             4</td><td style=\"text-align: right;\"> 4717</td></tr>\n",
       "<tr><td style=\"text-align: right;\">               8</td><td style=\"text-align: right;\">                        1</td><td style=\"text-align: right;\">                         0.1 </td><td style=\"text-align: right;\">                2</td><td style=\"text-align: right;\">              34</td><td style=\"text-align: right;\">                45</td><td style=\"text-align: right;\">            0.37812 </td><td style=\"text-align: right;\">                       348.74</td><td style=\"text-align: right;\">                             1</td><td style=\"text-align: right;\">                   1.0384e+06</td><td style=\"text-align: right;\">             4</td><td style=\"text-align: right;\"> 8008</td></tr>\n",
       "<tr><td style=\"text-align: right;\">              10</td><td style=\"text-align: right;\">                        0</td><td style=\"text-align: right;\">                         0.65</td><td style=\"text-align: right;\">                7</td><td style=\"text-align: right;\">              18</td><td style=\"text-align: right;\">                39</td><td style=\"text-align: right;\">            0.656388</td><td style=\"text-align: right;\">                       333.9 </td><td style=\"text-align: right;\">                             1</td><td style=\"text-align: right;\">              959200         </td><td style=\"text-align: right;\">             2</td><td style=\"text-align: right;\"> 8179</td></tr>\n",
       "<tr><td style=\"text-align: right;\">               8</td><td style=\"text-align: right;\">                        0</td><td style=\"text-align: right;\">                         0.29</td><td style=\"text-align: right;\">                3</td><td style=\"text-align: right;\">              18</td><td style=\"text-align: right;\">                58</td><td style=\"text-align: right;\">            0.618943</td><td style=\"text-align: right;\">                       349.8 </td><td style=\"text-align: right;\">                             1</td><td style=\"text-align: right;\">              800800         </td><td style=\"text-align: right;\">             2</td><td style=\"text-align: right;\"> 6324</td></tr>\n",
       "</tbody>\n",
       "</table>"
      ]
     },
     "metadata": {},
     "output_type": "display_data"
    },
    {
     "data": {
      "text/plain": []
     },
     "execution_count": 108,
     "metadata": {},
     "output_type": "execute_result"
    }
   ],
   "source": [
    "train_h2o.head()"
   ]
  },
  {
   "cell_type": "code",
   "execution_count": 109,
   "metadata": {},
   "outputs": [],
   "source": [
    "defcon_train,defcon_test,defcon_valid = train_h2o.split_frame(ratios=[.7, .15])"
   ]
  },
  {
   "cell_type": "code",
   "execution_count": 110,
   "metadata": {},
   "outputs": [],
   "source": [
    "\n",
    "y = \"DEFCON_Level\"\n",
    "x = train_h2o.columns\n",
    "x.remove(y)\n",
    "x.remove(\"ID\")"
   ]
  },
  {
   "cell_type": "code",
   "execution_count": 147,
   "metadata": {},
   "outputs": [],
   "source": [
    "aml = H2OAutoML(max_models = 15, seed = 10, verbosity=\"info\", nfolds=10, balance_classes = True)"
   ]
  },
  {
   "cell_type": "code",
   "execution_count": null,
   "metadata": {},
   "outputs": [
    {
     "name": "stdout",
     "output_type": "stream",
     "text": [
      "AutoML progress: |\n",
      "15:22:17.425: Project: AutoML_20200307_152217424\n",
      "15:22:17.425: User specified a validation frame with cross-validation still enabled. Please note that the models will still be validated using cross-validation only, the validation frame will be used to provide purely informative validation metrics on the trained models.\n",
      "15:22:17.425: Setting stopping tolerance adaptively based on the training frame: 0.011922516965940004\n",
      "15:22:17.425: Build control seed: 10\n",
      "15:22:17.425: training frame: Frame key: automl_training_py_53_sid_a8e5    cols: 12    rows: 7035  chunks: 48    size: 220856  checksum: -3398931555276024872\n",
      "15:22:17.425: validation frame: Frame key: py_55_sid_a8e5    cols: 12    rows: 1471  chunks: 48    size: 94502  checksum: -5677450988179863576\n",
      "15:22:17.425: leaderboard frame: NULL\n",
      "15:22:17.425: blending frame: NULL\n",
      "15:22:17.425: response column: DEFCON_Level\n",
      "15:22:17.425: fold column: null\n",
      "15:22:17.425: weights column: null\n",
      "15:22:17.425: AutoML: XGBoost is not available; skipping it.\n",
      "15:22:17.425: Loading execution steps: [{XGBoost : defaults}, {GLM : defaults}, {DRF : [def_1]}, {GBM : defaults}, {DeepLearning : defaults}, {DRF : [XRT]}, {XGBoost : grids}, {GBM : grids}, {DeepLearning : grids}, {StackedEnsemble : defaults}]\n",
      "15:22:17.425: Disabling Algo: XGBoost as requested by the user.\n",
      "15:22:17.425: AutoML job created: 2020.03.07 15:22:17.424\n",
      "15:22:17.426: AutoML build started: 2020.03.07 15:22:17.426\n",
      "15:22:17.426: AutoML: starting GLM_1_AutoML_20200307_152217 model training\n",
      "\n",
      "███\n",
      "15:22:26.809: New leader: GLM_1_AutoML_20200307_152217, mean_per_class_error: 0.7013840219939953\n",
      "15:22:26.809: AutoML: starting DRF_1_AutoML_20200307_152217 model training\n",
      "\n",
      "████\n",
      "15:22:47.281: New leader: DRF_1_AutoML_20200307_152217, mean_per_class_error: 0.6821998290707748\n",
      "15:22:47.281: AutoML: starting GBM_1_AutoML_20200307_152217 model training\n",
      "\n",
      "██\n",
      "15:23:00.30: New leader: GBM_1_AutoML_20200307_152217, mean_per_class_error: 0.6576696521454308\n",
      "15:23:00.30: AutoML: starting GBM_2_AutoML_20200307_152217 model training\n",
      "\n",
      "██\n",
      "15:23:13.124: New leader: GBM_2_AutoML_20200307_152217, mean_per_class_error: 0.6514661968581561\n",
      "15:23:13.124: AutoML: starting GBM_3_AutoML_20200307_152217 model training\n",
      "\n",
      "██\n",
      "15:23:26.468: New leader: GBM_3_AutoML_20200307_152217, mean_per_class_error: 0.6456204785750279\n",
      "15:23:26.468: AutoML: starting GBM_4_AutoML_20200307_152217 model training\n",
      "\n",
      "█████\n",
      "15:23:44.599: AutoML: starting GBM_5_AutoML_20200307_152217 model training\n",
      "\n",
      "█\n",
      "15:24:08.162: New leader: GBM_5_AutoML_20200307_152217, mean_per_class_error: 0.6452164941222123\n",
      "15:24:08.162: AutoML: starting DeepLearning_1_AutoML_20200307_152217 model training\n",
      "\n",
      "█\n",
      "15:24:12.157: AutoML: starting XRT_1_AutoML_20200307_152217 model training\n",
      "\n",
      "█████\n",
      "15:24:46.160: AutoML: starting GBM_grid__1_AutoML_20200307_152217 hyperparameter search\n",
      "\n",
      "██████████████████\n",
      "15:25:23.678: AutoML: starting DeepLearning_grid__1_AutoML_20200307_152217 hyperparameter search\n",
      "\n",
      "██████████\n",
      "15:29:53.368: New leader: DeepLearning_grid__1_AutoML_20200307_152217_model_1, mean_per_class_error: 0.6272027602007342\n",
      "15:29:53.368: AutoML: starting DeepLearning_grid__2_AutoML_20200307_152217 hyperparameter search\n",
      "\n",
      "█"
     ]
    }
   ],
   "source": [
    "aml.train(x = x, y = y, training_frame = defcon_train, validation_frame=defcon_valid)"
   ]
  },
  {
   "cell_type": "code",
   "execution_count": 146,
   "metadata": {},
   "outputs": [
    {
     "name": "stdout",
     "output_type": "stream",
     "text": [
      "Sat Mar 07 15:21:55 2020       \n",
      "+-----------------------------------------------------------------------------+\n",
      "| NVIDIA-SMI 431.65       Driver Version: 431.65       CUDA Version: 10.1     |\n",
      "|-------------------------------+----------------------+----------------------+\n",
      "| GPU  Name            TCC/WDDM | Bus-Id        Disp.A | Volatile Uncorr. ECC |\n",
      "| Fan  Temp  Perf  Pwr:Usage/Cap|         Memory-Usage | GPU-Util  Compute M. |\n",
      "|===============================+======================+======================|\n",
      "|   0  GeForce GTX 166... WDDM  | 00000000:01:00.0  On |                  N/A |\n",
      "| N/A   40C    P8     2W /  N/A |    792MiB /  6144MiB |      1%      Default |\n",
      "+-------------------------------+----------------------+----------------------+\n",
      "                                                                               \n",
      "+-----------------------------------------------------------------------------+\n",
      "| Processes:                                                       GPU Memory |\n",
      "|  GPU       PID   Type   Process name                             Usage      |\n",
      "|=============================================================================|\n",
      "|    0      3580    C+G   ...5n1h2txyewy\\StartMenuExperienceHost.exe N/A      |\n",
      "|    0      5340    C+G   ...AppData\\Local\\Box\\Box Edit\\Box Edit.exe N/A      |\n",
      "|    0      8012    C+G   ...cal\\Programs\\Microsoft VS Code\\Code.exe N/A      |\n",
      "|    0      9812    C+G   ...Local\\Microsoft\\Teams\\current\\Teams.exe N/A      |\n",
      "|    0     11496    C+G   ...dows.Cortana_cw5n1h2txyewy\\SearchUI.exe N/A      |\n",
      "|    0     11552    C+G   ...hell.Experiences.TextInput.InputApp.exe N/A      |\n",
      "|    0     11964    C+G   ...oftEdge_8wekyb3d8bbwe\\MicrosoftEdge.exe N/A      |\n",
      "|    0     12852    C+G   ...6)\\Google\\Chrome\\Application\\chrome.exe N/A      |\n",
      "|    0     14236    C+G   ...1.0_x64__8wekyb3d8bbwe\\WinStore.App.exe N/A      |\n",
      "|    0     16168    C+G   ...icrosoft Office\\root\\Office16\\EXCEL.EXE N/A      |\n",
      "|    0     16240    C+G   ...Local\\Microsoft\\Teams\\current\\Teams.exe N/A      |\n",
      "|    0     16456    C+G   ...13511.0_x64__8wekyb3d8bbwe\\Video.UI.exe N/A      |\n",
      "|    0     18368    C+G   Insufficient Permissions                   N/A      |\n",
      "|    0     20784    C+G   C:\\Windows\\explorer.exe                    N/A      |\n",
      "|    0     20988    C+G   ...osoft.LockApp_cw5n1h2txyewy\\LockApp.exe N/A      |\n",
      "|    0     20992    C+G   ...x64__8wekyb3d8bbwe\\Microsoft.Photos.exe N/A      |\n",
      "|    0     22296    C+G   ...t_cw5n1h2txyewy\\ShellExperienceHost.exe N/A      |\n",
      "|    0     23308    C+G   ...6.102.0_x64__kzf8qxf38zg5c\\SkypeApp.exe N/A      |\n",
      "|    0     25676    C+G   ...crosoft Office\\root\\Office16\\UcMapi.exe N/A      |\n",
      "|    0     25680    C+G   ...mmersiveControlPanel\\SystemSettings.exe N/A      |\n",
      "|    0     25708    C+G   ...Microsoft Office\\root\\Office16\\lync.exe N/A      |\n",
      "|    0     27100    C+G   ...0.0.0_x64__8wekyb3d8bbwe\\Calculator.exe N/A      |\n",
      "+-----------------------------------------------------------------------------+\n"
     ]
    }
   ],
   "source": [
    "!nvidia-smi"
   ]
  },
  {
   "cell_type": "code",
   "execution_count": 114,
   "metadata": {},
   "outputs": [],
   "source": [
    "lb = aml.leaderboard"
   ]
  },
  {
   "cell_type": "code",
   "execution_count": 115,
   "metadata": {},
   "outputs": [
    {
     "data": {
      "text/html": [
       "<table>\n",
       "<thead>\n",
       "<tr><th>model_id                                  </th><th style=\"text-align: right;\">  mean_per_class_error</th><th style=\"text-align: right;\">  logloss</th><th style=\"text-align: right;\">    rmse</th><th style=\"text-align: right;\">     mse</th></tr>\n",
       "</thead>\n",
       "<tbody>\n",
       "<tr><td>GBM_5_AutoML_20200307_121001              </td><td style=\"text-align: right;\">              0.630086</td><td style=\"text-align: right;\"> 0.892909</td><td style=\"text-align: right;\">0.541454</td><td style=\"text-align: right;\">0.293173</td></tr>\n",
       "<tr><td>GBM_grid__1_AutoML_20200307_121001_model_1</td><td style=\"text-align: right;\">              0.635587</td><td style=\"text-align: right;\"> 0.911652</td><td style=\"text-align: right;\">0.55487 </td><td style=\"text-align: right;\">0.307881</td></tr>\n",
       "<tr><td>GBM_4_AutoML_20200307_121001              </td><td style=\"text-align: right;\">              0.637077</td><td style=\"text-align: right;\"> 0.975763</td><td style=\"text-align: right;\">0.540319</td><td style=\"text-align: right;\">0.291945</td></tr>\n",
       "<tr><td>GBM_3_AutoML_20200307_121001              </td><td style=\"text-align: right;\">              0.641301</td><td style=\"text-align: right;\"> 0.943119</td><td style=\"text-align: right;\">0.54284 </td><td style=\"text-align: right;\">0.294675</td></tr>\n",
       "<tr><td>GBM_1_AutoML_20200307_121001              </td><td style=\"text-align: right;\">              0.645139</td><td style=\"text-align: right;\"> 0.932808</td><td style=\"text-align: right;\">0.557264</td><td style=\"text-align: right;\">0.310543</td></tr>\n",
       "<tr><td>GBM_2_AutoML_20200307_121001              </td><td style=\"text-align: right;\">              0.648254</td><td style=\"text-align: right;\"> 0.946249</td><td style=\"text-align: right;\">0.547308</td><td style=\"text-align: right;\">0.299546</td></tr>\n",
       "<tr><td>DRF_1_AutoML_20200307_121001              </td><td style=\"text-align: right;\">              0.671885</td><td style=\"text-align: right;\"> 1.26308 </td><td style=\"text-align: right;\">0.544581</td><td style=\"text-align: right;\">0.296568</td></tr>\n",
       "<tr><td>DeepLearning_1_AutoML_20200307_121001     </td><td style=\"text-align: right;\">              0.685788</td><td style=\"text-align: right;\"> 1.0161  </td><td style=\"text-align: right;\">0.582444</td><td style=\"text-align: right;\">0.339242</td></tr>\n",
       "<tr><td>XRT_1_AutoML_20200307_121001              </td><td style=\"text-align: right;\">              0.687056</td><td style=\"text-align: right;\"> 1.28779 </td><td style=\"text-align: right;\">0.551727</td><td style=\"text-align: right;\">0.304403</td></tr>\n",
       "<tr><td>GLM_1_AutoML_20200307_121001              </td><td style=\"text-align: right;\">              0.709884</td><td style=\"text-align: right;\"> 0.993581</td><td style=\"text-align: right;\">0.594689</td><td style=\"text-align: right;\">0.353655</td></tr>\n",
       "</tbody>\n",
       "</table>"
      ]
     },
     "metadata": {},
     "output_type": "display_data"
    },
    {
     "data": {
      "text/plain": []
     },
     "execution_count": 115,
     "metadata": {},
     "output_type": "execute_result"
    }
   ],
   "source": [
    "lb.head()"
   ]
  },
  {
   "cell_type": "code",
   "execution_count": null,
   "metadata": {},
   "outputs": [],
   "source": [
    "defcon_train_pred=aml.leader.predict(defcon_test)"
   ]
  },
  {
   "cell_type": "code",
   "execution_count": 117,
   "metadata": {},
   "outputs": [
    {
     "data": {
      "text/html": [
       "<table>\n",
       "<thead>\n",
       "<tr><th style=\"text-align: right;\">  predict</th><th style=\"text-align: right;\">        p1</th><th style=\"text-align: right;\">       p2</th><th style=\"text-align: right;\">       p3</th><th style=\"text-align: right;\">        p4</th><th style=\"text-align: right;\">         p5</th></tr>\n",
       "</thead>\n",
       "<tbody>\n",
       "<tr><td style=\"text-align: right;\">        3</td><td style=\"text-align: right;\">0.00228584</td><td style=\"text-align: right;\">0.417786 </td><td style=\"text-align: right;\">0.52244  </td><td style=\"text-align: right;\">0.0572801 </td><td style=\"text-align: right;\">0.000208591</td></tr>\n",
       "<tr><td style=\"text-align: right;\">        3</td><td style=\"text-align: right;\">0.00133083</td><td style=\"text-align: right;\">0.0204507</td><td style=\"text-align: right;\">0.518082 </td><td style=\"text-align: right;\">0.458565  </td><td style=\"text-align: right;\">0.00157167 </td></tr>\n",
       "<tr><td style=\"text-align: right;\">        3</td><td style=\"text-align: right;\">0.00133522</td><td style=\"text-align: right;\">0.031169 </td><td style=\"text-align: right;\">0.67735  </td><td style=\"text-align: right;\">0.288936  </td><td style=\"text-align: right;\">0.00120981 </td></tr>\n",
       "<tr><td style=\"text-align: right;\">        2</td><td style=\"text-align: right;\">0.140407  </td><td style=\"text-align: right;\">0.513129 </td><td style=\"text-align: right;\">0.320909 </td><td style=\"text-align: right;\">0.0253877 </td><td style=\"text-align: right;\">0.000166762</td></tr>\n",
       "<tr><td style=\"text-align: right;\">        3</td><td style=\"text-align: right;\">0.0105822 </td><td style=\"text-align: right;\">0.174226 </td><td style=\"text-align: right;\">0.562854 </td><td style=\"text-align: right;\">0.241963  </td><td style=\"text-align: right;\">0.0103749  </td></tr>\n",
       "<tr><td style=\"text-align: right;\">        3</td><td style=\"text-align: right;\">0.0105208 </td><td style=\"text-align: right;\">0.197877 </td><td style=\"text-align: right;\">0.767169 </td><td style=\"text-align: right;\">0.0240729 </td><td style=\"text-align: right;\">0.000360257</td></tr>\n",
       "<tr><td style=\"text-align: right;\">        2</td><td style=\"text-align: right;\">0.0542099 </td><td style=\"text-align: right;\">0.850186 </td><td style=\"text-align: right;\">0.0842851</td><td style=\"text-align: right;\">0.0111488 </td><td style=\"text-align: right;\">0.000170163</td></tr>\n",
       "<tr><td style=\"text-align: right;\">        1</td><td style=\"text-align: right;\">0.397416  </td><td style=\"text-align: right;\">0.38879  </td><td style=\"text-align: right;\">0.169006 </td><td style=\"text-align: right;\">0.0445833 </td><td style=\"text-align: right;\">0.000204507</td></tr>\n",
       "<tr><td style=\"text-align: right;\">        3</td><td style=\"text-align: right;\">0.0392091 </td><td style=\"text-align: right;\">0.386772 </td><td style=\"text-align: right;\">0.531814 </td><td style=\"text-align: right;\">0.0419702 </td><td style=\"text-align: right;\">0.000235033</td></tr>\n",
       "<tr><td style=\"text-align: right;\">        2</td><td style=\"text-align: right;\">0.00464696</td><td style=\"text-align: right;\">0.644927 </td><td style=\"text-align: right;\">0.347694 </td><td style=\"text-align: right;\">0.00266929</td><td style=\"text-align: right;\">6.33459e-05</td></tr>\n",
       "</tbody>\n",
       "</table>"
      ]
     },
     "metadata": {},
     "output_type": "display_data"
    },
    {
     "data": {
      "text/plain": []
     },
     "execution_count": 117,
     "metadata": {},
     "output_type": "execute_result"
    }
   ],
   "source": [
    "defcon_train_pred.head()"
   ]
  },
  {
   "cell_type": "code",
   "execution_count": 118,
   "metadata": {},
   "outputs": [
    {
     "name": "stdout",
     "output_type": "stream",
     "text": [
      "\n",
      "ModelMetricsMultinomial: gbm\n",
      "** Reported on test data. **\n",
      "\n",
      "MSE: 0.2953527952922798\n",
      "RMSE: 0.5434637019086738\n",
      "LogLoss: 0.902197872006443\n",
      "Mean Per-Class Error: 0.6421078283191651\n",
      "\n",
      "Confusion Matrix: Row labels: Actual class; Column labels: Predicted class\n"
     ]
    },
    {
     "data": {
      "text/html": [
       "<div>\n",
       "<style scoped>\n",
       "    .dataframe tbody tr th:only-of-type {\n",
       "        vertical-align: middle;\n",
       "    }\n",
       "\n",
       "    .dataframe tbody tr th {\n",
       "        vertical-align: top;\n",
       "    }\n",
       "\n",
       "    .dataframe thead th {\n",
       "        text-align: right;\n",
       "    }\n",
       "</style>\n",
       "<table border=\"1\" class=\"dataframe\">\n",
       "  <thead>\n",
       "    <tr style=\"text-align: right;\">\n",
       "      <th></th>\n",
       "      <th>1</th>\n",
       "      <th>2</th>\n",
       "      <th>3</th>\n",
       "      <th>4</th>\n",
       "      <th>5</th>\n",
       "      <th>Error</th>\n",
       "      <th>Rate</th>\n",
       "    </tr>\n",
       "  </thead>\n",
       "  <tbody>\n",
       "    <tr>\n",
       "      <td>0</td>\n",
       "      <td>5.0</td>\n",
       "      <td>52.0</td>\n",
       "      <td>17.0</td>\n",
       "      <td>1.0</td>\n",
       "      <td>0.0</td>\n",
       "      <td>0.933333</td>\n",
       "      <td>70 / 75</td>\n",
       "    </tr>\n",
       "    <tr>\n",
       "      <td>1</td>\n",
       "      <td>6.0</td>\n",
       "      <td>476.0</td>\n",
       "      <td>150.0</td>\n",
       "      <td>3.0</td>\n",
       "      <td>0.0</td>\n",
       "      <td>0.250394</td>\n",
       "      <td>159 / 635</td>\n",
       "    </tr>\n",
       "    <tr>\n",
       "      <td>2</td>\n",
       "      <td>1.0</td>\n",
       "      <td>201.0</td>\n",
       "      <td>356.0</td>\n",
       "      <td>27.0</td>\n",
       "      <td>0.0</td>\n",
       "      <td>0.391453</td>\n",
       "      <td>229 / 585</td>\n",
       "    </tr>\n",
       "    <tr>\n",
       "      <td>3</td>\n",
       "      <td>0.0</td>\n",
       "      <td>16.0</td>\n",
       "      <td>97.0</td>\n",
       "      <td>66.0</td>\n",
       "      <td>2.0</td>\n",
       "      <td>0.635359</td>\n",
       "      <td>115 / 181</td>\n",
       "    </tr>\n",
       "    <tr>\n",
       "      <td>4</td>\n",
       "      <td>0.0</td>\n",
       "      <td>2.0</td>\n",
       "      <td>11.0</td>\n",
       "      <td>5.0</td>\n",
       "      <td>0.0</td>\n",
       "      <td>1.000000</td>\n",
       "      <td>18 / 18</td>\n",
       "    </tr>\n",
       "    <tr>\n",
       "      <td>5</td>\n",
       "      <td>12.0</td>\n",
       "      <td>747.0</td>\n",
       "      <td>631.0</td>\n",
       "      <td>102.0</td>\n",
       "      <td>2.0</td>\n",
       "      <td>0.395582</td>\n",
       "      <td>591 / 1,494</td>\n",
       "    </tr>\n",
       "  </tbody>\n",
       "</table>\n",
       "</div>"
      ],
      "text/plain": [
       "      1      2      3      4    5     Error         Rate\n",
       "0   5.0   52.0   17.0    1.0  0.0  0.933333      70 / 75\n",
       "1   6.0  476.0  150.0    3.0  0.0  0.250394    159 / 635\n",
       "2   1.0  201.0  356.0   27.0  0.0  0.391453    229 / 585\n",
       "3   0.0   16.0   97.0   66.0  2.0  0.635359    115 / 181\n",
       "4   0.0    2.0   11.0    5.0  0.0  1.000000      18 / 18\n",
       "5  12.0  747.0  631.0  102.0  2.0  0.395582  591 / 1,494"
      ]
     },
     "metadata": {},
     "output_type": "display_data"
    },
    {
     "name": "stdout",
     "output_type": "stream",
     "text": [
      "\n",
      "Top-5 Hit Ratios: \n"
     ]
    },
    {
     "data": {
      "text/html": [
       "<div>\n",
       "<style scoped>\n",
       "    .dataframe tbody tr th:only-of-type {\n",
       "        vertical-align: middle;\n",
       "    }\n",
       "\n",
       "    .dataframe tbody tr th {\n",
       "        vertical-align: top;\n",
       "    }\n",
       "\n",
       "    .dataframe thead th {\n",
       "        text-align: right;\n",
       "    }\n",
       "</style>\n",
       "<table border=\"1\" class=\"dataframe\">\n",
       "  <thead>\n",
       "    <tr style=\"text-align: right;\">\n",
       "      <th></th>\n",
       "      <th>k</th>\n",
       "      <th>hit_ratio</th>\n",
       "    </tr>\n",
       "  </thead>\n",
       "  <tbody>\n",
       "    <tr>\n",
       "      <td>0</td>\n",
       "      <td>1</td>\n",
       "      <td>0.604418</td>\n",
       "    </tr>\n",
       "    <tr>\n",
       "      <td>1</td>\n",
       "      <td>2</td>\n",
       "      <td>0.898929</td>\n",
       "    </tr>\n",
       "    <tr>\n",
       "      <td>2</td>\n",
       "      <td>3</td>\n",
       "      <td>0.974565</td>\n",
       "    </tr>\n",
       "    <tr>\n",
       "      <td>3</td>\n",
       "      <td>4</td>\n",
       "      <td>0.995315</td>\n",
       "    </tr>\n",
       "    <tr>\n",
       "      <td>4</td>\n",
       "      <td>5</td>\n",
       "      <td>1.000000</td>\n",
       "    </tr>\n",
       "  </tbody>\n",
       "</table>\n",
       "</div>"
      ],
      "text/plain": [
       "   k  hit_ratio\n",
       "0  1   0.604418\n",
       "1  2   0.898929\n",
       "2  3   0.974565\n",
       "3  4   0.995315\n",
       "4  5   1.000000"
      ]
     },
     "metadata": {},
     "output_type": "display_data"
    },
    {
     "data": {
      "text/plain": []
     },
     "execution_count": 118,
     "metadata": {},
     "output_type": "execute_result"
    }
   ],
   "source": [
    "aml.leader.model_performance(defcon_test)"
   ]
  },
  {
   "cell_type": "code",
   "execution_count": 124,
   "metadata": {},
   "outputs": [
    {
     "name": "stdout",
     "output_type": "stream",
     "text": [
      "gbm prediction progress: |████████████████████████████████████████████████| 100%\n"
     ]
    }
   ],
   "source": [
    "defcon_test_pred=aml.leader.predict(test_data_frame) "
   ]
  },
  {
   "cell_type": "code",
   "execution_count": 143,
   "metadata": {},
   "outputs": [
    {
     "data": {
      "text/plain": [
       "'D:\\\\Study Time\\\\Hackerearth\\\\Defcon\\\\output_1.csv'"
      ]
     },
     "execution_count": 143,
     "metadata": {},
     "output_type": "execute_result"
    }
   ],
   "source": [
    "h2o.h2o.download_csv(defcon_test_pred, 'output_1.csv')"
   ]
  },
  {
   "cell_type": "code",
   "execution_count": 132,
   "metadata": {},
   "outputs": [],
   "source": [
    "dicti = {}\n",
    "dicti['ID'] = test_h2o['ID']\n",
    "dicti['DEFCON_Level'] = defcon_test_pred['predict']"
   ]
  }
 ],
 "metadata": {
  "kernelspec": {
   "display_name": "Python 3",
   "language": "python",
   "name": "python3"
  },
  "language_info": {
   "codemirror_mode": {
    "name": "ipython",
    "version": 3
   },
   "file_extension": ".py",
   "mimetype": "text/x-python",
   "name": "python",
   "nbconvert_exporter": "python",
   "pygments_lexer": "ipython3",
   "version": "3.7.4"
  }
 },
 "nbformat": 4,
 "nbformat_minor": 2
}
